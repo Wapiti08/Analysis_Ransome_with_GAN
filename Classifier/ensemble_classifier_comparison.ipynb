{
 "cells": [
  {
   "cell_type": "code",
   "execution_count": 41,
   "metadata": {},
   "outputs": [],
   "source": [
    "from sklearn.ensemble import BaggingClassifier\n",
    "from sklearn.ensemble import RandomForestClassifier \n",
    "from sklearn.ensemble import AdaBoostClassifier\n",
    "from sklearn.ensemble import GradientBoostingClassifier\n",
    "from sklearn.svm import SVC"
   ]
  },
  {
   "cell_type": "code",
   "execution_count": 42,
   "metadata": {},
   "outputs": [],
   "source": [
    "from sklearn.metrics import confusion_matrix\n",
    "from sklearn.metrics import roc_auc_score\n",
    "from sklearn.metrics import f1_score\n",
    "from sklearn.utils import shuffle\n",
    "from sklearn.model_selection import train_test_split\n",
    "import pandas as pd"
   ]
  },
  {
   "cell_type": "code",
   "execution_count": 43,
   "metadata": {},
   "outputs": [],
   "source": [
    "# define the random seed\n",
    "global seed\n",
    "seed = 43"
   ]
  },
  {
   "cell_type": "markdown",
   "metadata": {},
   "source": [
    "## load the dataset, there are six types of dataset in total "
   ]
  },
  {
   "cell_type": "code",
   "execution_count": 44,
   "metadata": {},
   "outputs": [],
   "source": [
    "# data from feature selector\n",
    "selected_features = pd.read_pickle('../dataset/training_data/features_selected.pkl')\n",
    "selected_features_all = selected_features.iloc[:, 1:-1]\n",
    "\n",
    "# extract the label data\n",
    "label = selected_features['label']\n",
    "\n",
    "# data from three-gram\n",
    "thr_gram_features = pd.read_pickle('../dataset/training_data/thr_gram_features.pkl')\n",
    "thr_gram_features = thr_gram_features.iloc[:,:-1]\n",
    "\n",
    "# data from four-gram\n",
    "four_gram_features = pd.read_pickle('../dataset/training_data/four_gram_features.pkl')\n",
    "\n",
    "# data from all TF-IDF features\n",
    "tf_idf_all = pd.read_pickle('../dataset/training_data/features_ran_all.pkl')\n",
    "tf_idf_all = tf_idf_all.iloc[:,:-1]\n",
    "\n",
    "# data from partial TF_IDF features\n",
    "tf_idf_part = pd.read_pickle('../dataset/training_data/features_ran_part.pkl')\n",
    "tf_idf_part = tf_idf_part.iloc[:,:-1]\n",
    "\n",
    "# data from united features\n",
    "united_features = pd.read_pickle('../dataset/training_data/united_features.pkl')\n"
   ]
  },
  {
   "cell_type": "code",
   "execution_count": 45,
   "metadata": {},
   "outputs": [],
   "source": [
    "# build the dataset dict\n",
    "dataset_dict = {\n",
    "    'selected_features': selected_features_all,\n",
    "    'thr_gram_features': thr_gram_features,\n",
    "    'four_gram_features': four_gram_features,\n",
    "    'tf_idf_all': tf_idf_all,\n",
    "    'tf_idf_part': tf_idf_part,\n",
    "    'united_features': united_features\n",
    "}"
   ]
  },
  {
   "cell_type": "markdown",
   "metadata": {},
   "source": [
    "## convert the features into numpy data from model"
   ]
  },
  {
   "cell_type": "code",
   "execution_count": 46,
   "metadata": {},
   "outputs": [],
   "source": [
    "# module to create training and testing x and y from data\n",
    "def data_split(dataframe, label):\n",
    "    X = dataframe.values\n",
    "    y = label.values\n",
    "    # shuffle the data\n",
    "    X, y = shuffle(X, y, random_state = seed)\n",
    "    # split the data into training and testing data\n",
    "    X_train, X_test, y_train, y_test = train_test_split(X, y, test_size=0.3, random_state=seed)\n",
    "    \n",
    "    return X_train, X_test, y_train, y_test\n",
    "    "
   ]
  },
  {
   "cell_type": "markdown",
   "metadata": {},
   "source": [
    "## Build Ensemble Models"
   ]
  },
  {
   "cell_type": "markdown",
   "metadata": {},
   "source": [
    "### 1. BaggingClassifier"
   ]
  },
  {
   "cell_type": "code",
   "execution_count": 47,
   "metadata": {},
   "outputs": [],
   "source": [
    "# the realization of BaggingClassifier\n",
    "def Bag_classifier(X_train, X_test, y_train, y_test):\n",
    "    clf = BaggingClassifier(base_estimator=SVC(), n_estimators=10, random_state=seed).fit(X_train, y_train)\n",
    "    y_pred = clf.predict(X_test)\n",
    "    accuracy = clf.score(X_test, y_test)\n",
    "    \n",
    "    print('The confusion matrix for BaggingClassifier model is {}\\n'.format(confusion_matrix(y_test, y_pred, labels=[0,1])))\n",
    "    print('The roc_aux_score for BaggingClassifier model is {}\\n'.format(roc_auc_score(y_test, y_pred)))\n",
    "    print('The f1_score for BaggingClassifier model is {}\\n'.format(f1_score(y_test, y_pred)))\n",
    "    \n",
    "    return accuracy"
   ]
  },
  {
   "cell_type": "code",
   "execution_count": 48,
   "metadata": {},
   "outputs": [
    {
     "name": "stdout",
     "output_type": "stream",
     "text": [
      "The confusion matrix for BaggingClassifier model is [[41  1]\n",
      " [ 0 58]]\n",
      "\n",
      "The roc_aux_score for BaggingClassifier model is 0.988095238095238\n",
      "\n",
      "The f1_score for BaggingClassifier model is 0.9914529914529915\n",
      "\n",
      "The performace of features selected_features on the BaggingClassifier model is 0.99\n",
      "\n",
      "The confusion matrix for BaggingClassifier model is [[42  0]\n",
      " [ 0 58]]\n",
      "\n",
      "The roc_aux_score for BaggingClassifier model is 1.0\n",
      "\n",
      "The f1_score for BaggingClassifier model is 1.0\n",
      "\n",
      "The performace of features thr_gram_features on the BaggingClassifier model is 1.0\n",
      "\n",
      "The confusion matrix for BaggingClassifier model is [[42  0]\n",
      " [ 0 58]]\n",
      "\n",
      "The roc_aux_score for BaggingClassifier model is 1.0\n",
      "\n",
      "The f1_score for BaggingClassifier model is 1.0\n",
      "\n",
      "The performace of features four_gram_features on the BaggingClassifier model is 1.0\n",
      "\n",
      "The confusion matrix for BaggingClassifier model is [[42  0]\n",
      " [ 0 58]]\n",
      "\n",
      "The roc_aux_score for BaggingClassifier model is 1.0\n",
      "\n",
      "The f1_score for BaggingClassifier model is 1.0\n",
      "\n",
      "The performace of features tf_idf_all on the BaggingClassifier model is 1.0\n",
      "\n",
      "The confusion matrix for BaggingClassifier model is [[42  0]\n",
      " [ 0 58]]\n",
      "\n",
      "The roc_aux_score for BaggingClassifier model is 1.0\n",
      "\n",
      "The f1_score for BaggingClassifier model is 1.0\n",
      "\n",
      "The performace of features tf_idf_part on the BaggingClassifier model is 1.0\n",
      "\n",
      "The confusion matrix for BaggingClassifier model is [[42  0]\n",
      " [ 0 58]]\n",
      "\n",
      "The roc_aux_score for BaggingClassifier model is 1.0\n",
      "\n",
      "The f1_score for BaggingClassifier model is 1.0\n",
      "\n",
      "The performace of features united_features on the BaggingClassifier model is 1.0\n",
      "\n"
     ]
    }
   ],
   "source": [
    "for key, value in dataset_dict.items():\n",
    "    X_train, X_test, y_train, y_test = data_split(value, label)\n",
    "    accuracy = Bag_classifier(X_train, X_test, y_train, y_test)\n",
    "    print('The performace of features {} on the BaggingClassifier model is {}\\n'.format(key, accuracy))"
   ]
  },
  {
   "cell_type": "markdown",
   "metadata": {},
   "source": [
    "### 2.RandomForestClassifier"
   ]
  },
  {
   "cell_type": "code",
   "execution_count": 49,
   "metadata": {},
   "outputs": [],
   "source": [
    "# the realization of RandomForestClassifier\n",
    "def RF_model(X_trian, X_test, y_train, y_test):\n",
    "    clf = RandomForestClassifier(max_depth=2, random_state=seed).fit(X_train, y_train)\n",
    "    y_pred = clf.predict(X_test)\n",
    "    accuracy = clf.score(X_test, y_test)\n",
    "    \n",
    "    print('The confusion matrix for RandomForestClassifier model is {}\\n'.format(confusion_matrix(y_test, y_pred, labels=[0,1])))\n",
    "    print('The roc_aux_score for RandomForestClassifier model is {}\\n'.format(roc_auc_score(y_test, y_pred)))\n",
    "    print('The f1_score for RandomForestClassifier model is {}\\n'.format(f1_score(y_test, y_pred)))\n",
    "    \n",
    "    return accuracy"
   ]
  },
  {
   "cell_type": "code",
   "execution_count": 50,
   "metadata": {},
   "outputs": [
    {
     "name": "stdout",
     "output_type": "stream",
     "text": [
      "The confusion matrix for RandomForestClassifier model is [[42  0]\n",
      " [ 0 58]]\n",
      "\n",
      "The roc_aux_score for RandomForestClassifier model is 1.0\n",
      "\n",
      "The f1_score for RandomForestClassifier model is 1.0\n",
      "\n",
      "The performace of features selected_features on the RandomForestClassifier model is 1.0\n",
      "\n",
      "The confusion matrix for RandomForestClassifier model is [[42  0]\n",
      " [ 0 58]]\n",
      "\n",
      "The roc_aux_score for RandomForestClassifier model is 1.0\n",
      "\n",
      "The f1_score for RandomForestClassifier model is 1.0\n",
      "\n",
      "The performace of features thr_gram_features on the RandomForestClassifier model is 1.0\n",
      "\n",
      "The confusion matrix for RandomForestClassifier model is [[42  0]\n",
      " [ 0 58]]\n",
      "\n",
      "The roc_aux_score for RandomForestClassifier model is 1.0\n",
      "\n",
      "The f1_score for RandomForestClassifier model is 1.0\n",
      "\n",
      "The performace of features four_gram_features on the RandomForestClassifier model is 1.0\n",
      "\n",
      "The confusion matrix for RandomForestClassifier model is [[42  0]\n",
      " [ 0 58]]\n",
      "\n",
      "The roc_aux_score for RandomForestClassifier model is 1.0\n",
      "\n",
      "The f1_score for RandomForestClassifier model is 1.0\n",
      "\n",
      "The performace of features tf_idf_all on the RandomForestClassifier model is 1.0\n",
      "\n",
      "The confusion matrix for RandomForestClassifier model is [[42  0]\n",
      " [ 0 58]]\n",
      "\n",
      "The roc_aux_score for RandomForestClassifier model is 1.0\n",
      "\n",
      "The f1_score for RandomForestClassifier model is 1.0\n",
      "\n",
      "The performace of features tf_idf_part on the RandomForestClassifier model is 1.0\n",
      "\n",
      "The confusion matrix for RandomForestClassifier model is [[42  0]\n",
      " [ 0 58]]\n",
      "\n",
      "The roc_aux_score for RandomForestClassifier model is 1.0\n",
      "\n",
      "The f1_score for RandomForestClassifier model is 1.0\n",
      "\n",
      "The performace of features united_features on the RandomForestClassifier model is 1.0\n",
      "\n"
     ]
    }
   ],
   "source": [
    "for key, value in dataset_dict.items():\n",
    "    X_train, X_test, y_train, y_test = data_split(value, label)\n",
    "    accuracy = RF_model(X_train, X_test, y_train, y_test)\n",
    "    print('The performace of features {} on the RandomForestClassifier model is {}\\n'.format(key, accuracy))"
   ]
  },
  {
   "cell_type": "markdown",
   "metadata": {},
   "source": [
    "### 3.AdaBoostClassifier"
   ]
  },
  {
   "cell_type": "code",
   "execution_count": 51,
   "metadata": {},
   "outputs": [],
   "source": [
    "# the realization of AdaBoostClassifier\n",
    "def AdaBoost_model(X_trian, X_test, y_train, y_test):\n",
    "    clf = AdaBoost_model(n_estimators=100, random_state=seed).fit(X_train, y_train)\n",
    "    y_pred = clf.predict(X_test)\n",
    "    accuracy = clf.score(X_test, y_test)\n",
    "    \n",
    "    print('The confusion matrix for AdaBoost_model model is {}\\n'.format(confusion_matrix(y_test, y_pred, labels=[0,1])))\n",
    "    print('The roc_aux_score for AdaBoost_model model is {}\\n'.format(roc_auc_score(y_test, y_pred)))\n",
    "    print('The f1_score for AdaBoost_model model is {}\\n'.format(f1_score(y_test, y_pred)))\n",
    "    \n",
    "    return accuracy"
   ]
  },
  {
   "cell_type": "code",
   "execution_count": 52,
   "metadata": {},
   "outputs": [
    {
     "name": "stdout",
     "output_type": "stream",
     "text": [
      "The confusion matrix for RandomForestClassifier model is [[42  0]\n",
      " [ 0 58]]\n",
      "\n",
      "The roc_aux_score for RandomForestClassifier model is 1.0\n",
      "\n",
      "The f1_score for RandomForestClassifier model is 1.0\n",
      "\n",
      "The performace of features selected_features on the RandomForestClassifier model is 1.0\n",
      "\n",
      "The confusion matrix for RandomForestClassifier model is [[42  0]\n",
      " [ 0 58]]\n",
      "\n",
      "The roc_aux_score for RandomForestClassifier model is 1.0\n",
      "\n",
      "The f1_score for RandomForestClassifier model is 1.0\n",
      "\n",
      "The performace of features thr_gram_features on the RandomForestClassifier model is 1.0\n",
      "\n",
      "The confusion matrix for RandomForestClassifier model is [[42  0]\n",
      " [ 0 58]]\n",
      "\n",
      "The roc_aux_score for RandomForestClassifier model is 1.0\n",
      "\n",
      "The f1_score for RandomForestClassifier model is 1.0\n",
      "\n",
      "The performace of features four_gram_features on the RandomForestClassifier model is 1.0\n",
      "\n",
      "The confusion matrix for RandomForestClassifier model is [[42  0]\n",
      " [ 0 58]]\n",
      "\n",
      "The roc_aux_score for RandomForestClassifier model is 1.0\n",
      "\n",
      "The f1_score for RandomForestClassifier model is 1.0\n",
      "\n",
      "The performace of features tf_idf_all on the RandomForestClassifier model is 1.0\n",
      "\n",
      "The confusion matrix for RandomForestClassifier model is [[42  0]\n",
      " [ 0 58]]\n",
      "\n",
      "The roc_aux_score for RandomForestClassifier model is 1.0\n",
      "\n",
      "The f1_score for RandomForestClassifier model is 1.0\n",
      "\n",
      "The performace of features tf_idf_part on the RandomForestClassifier model is 1.0\n",
      "\n",
      "The confusion matrix for RandomForestClassifier model is [[42  0]\n",
      " [ 0 58]]\n",
      "\n",
      "The roc_aux_score for RandomForestClassifier model is 1.0\n",
      "\n",
      "The f1_score for RandomForestClassifier model is 1.0\n",
      "\n",
      "The performace of features united_features on the RandomForestClassifier model is 1.0\n",
      "\n"
     ]
    }
   ],
   "source": [
    "for key, value in dataset_dict.items():\n",
    "    X_train, X_test, y_train, y_test = data_split(value, label)\n",
    "    accuracy = RF_model(X_train, X_test, y_train, y_test)\n",
    "    print('The performace of features {} on the RandomForestClassifier model is {}\\n'.format(key, accuracy))"
   ]
  },
  {
   "cell_type": "markdown",
   "metadata": {},
   "source": [
    "### 4.GradientBoostingClassifier"
   ]
  },
  {
   "cell_type": "code",
   "execution_count": 53,
   "metadata": {},
   "outputs": [],
   "source": [
    "# the realization of GradientBoostingClassifier\n",
    "def GradientBoost_model(X_trian, X_test, y_train, y_test):\n",
    "    clf = GradientBoostingClassifier(n_estimators=100, random_state=seed).fit(X_train, y_train)\n",
    "    y_pred = clf.predict(X_test)\n",
    "    accuracy = clf.score(X_test, y_test)\n",
    "    \n",
    "    print('The confusion matrix for GradientBoost_model model is {}\\n'.format(confusion_matrix(y_test, y_pred, labels=[0,1])))\n",
    "    print('The roc_aux_score for GradientBoost_model model is {}\\n'.format(roc_auc_score(y_test, y_pred)))\n",
    "    print('The f1_score for GradientBoost_model model is {}\\n'.format(f1_score(y_test, y_pred)))\n",
    "    \n",
    "    return accuracy"
   ]
  },
  {
   "cell_type": "code",
   "execution_count": 54,
   "metadata": {},
   "outputs": [
    {
     "name": "stdout",
     "output_type": "stream",
     "text": [
      "The confusion matrix for GradientBoost_model model is [[42  0]\n",
      " [ 0 58]]\n",
      "\n",
      "The roc_aux_score for GradientBoost_model model is 1.0\n",
      "\n",
      "The f1_score for GradientBoost_model model is 1.0\n",
      "\n",
      "The performace of features selected_features on the GradientBoost_model model is 1.0\n",
      "\n",
      "The confusion matrix for GradientBoost_model model is [[42  0]\n",
      " [ 0 58]]\n",
      "\n",
      "The roc_aux_score for GradientBoost_model model is 1.0\n",
      "\n",
      "The f1_score for GradientBoost_model model is 1.0\n",
      "\n",
      "The performace of features thr_gram_features on the GradientBoost_model model is 1.0\n",
      "\n",
      "The confusion matrix for GradientBoost_model model is [[42  0]\n",
      " [ 0 58]]\n",
      "\n",
      "The roc_aux_score for GradientBoost_model model is 1.0\n",
      "\n",
      "The f1_score for GradientBoost_model model is 1.0\n",
      "\n",
      "The performace of features four_gram_features on the GradientBoost_model model is 1.0\n",
      "\n",
      "The confusion matrix for GradientBoost_model model is [[42  0]\n",
      " [ 0 58]]\n",
      "\n",
      "The roc_aux_score for GradientBoost_model model is 1.0\n",
      "\n",
      "The f1_score for GradientBoost_model model is 1.0\n",
      "\n",
      "The performace of features tf_idf_all on the GradientBoost_model model is 1.0\n",
      "\n",
      "The confusion matrix for GradientBoost_model model is [[42  0]\n",
      " [ 0 58]]\n",
      "\n",
      "The roc_aux_score for GradientBoost_model model is 1.0\n",
      "\n",
      "The f1_score for GradientBoost_model model is 1.0\n",
      "\n",
      "The performace of features tf_idf_part on the GradientBoost_model model is 1.0\n",
      "\n",
      "The confusion matrix for GradientBoost_model model is [[42  0]\n",
      " [ 0 58]]\n",
      "\n",
      "The roc_aux_score for GradientBoost_model model is 1.0\n",
      "\n",
      "The f1_score for GradientBoost_model model is 1.0\n",
      "\n",
      "The performace of features united_features on the GradientBoost_model model is 1.0\n",
      "\n"
     ]
    }
   ],
   "source": [
    "for key, value in dataset_dict.items():\n",
    "    X_train, X_test, y_train, y_test = data_split(value, label)\n",
    "    accuracy = GradientBoost_model(X_train, X_test, y_train, y_test)\n",
    "    print('The performace of features {} on the GradientBoost_model model is {}\\n'.format(key, accuracy))"
   ]
  },
  {
   "cell_type": "markdown",
   "metadata": {},
   "source": [
    "## Build the metrics dataframe for ensemble classifier"
   ]
  },
  {
   "cell_type": "code",
   "execution_count": null,
   "metadata": {},
   "outputs": [],
   "source": []
  }
 ],
 "metadata": {
  "kernelspec": {
   "display_name": "Python 3.8.1 64-bit",
   "language": "python",
   "name": "python38164bitdbd76ed984a5488496eb976b9e8b3b8e"
  },
  "language_info": {
   "codemirror_mode": {
    "name": "ipython",
    "version": 3
   },
   "file_extension": ".py",
   "mimetype": "text/x-python",
   "name": "python",
   "nbconvert_exporter": "python",
   "pygments_lexer": "ipython3",
   "version": "3.8.1"
  }
 },
 "nbformat": 4,
 "nbformat_minor": 4
}
